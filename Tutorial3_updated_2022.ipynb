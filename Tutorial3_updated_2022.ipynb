{
 "cells": [
  {
   "cell_type": "markdown",
   "metadata": {},
   "source": [
    "# Tutorial 3: Mutiple Regression"
   ]
  },
  {
   "cell_type": "markdown",
   "metadata": {},
   "source": [
    "## Question 1: Linear Regression"
   ]
  },
  {
   "cell_type": "markdown",
   "metadata": {},
   "source": [
    "Create a random 1-dimensional vector of predictor variables, x, from a uniform distribution of size 100. The response variable \n",
    "y has a linear relationship with x according to the following equation:y=-5x+5+$\\epsilon$, where $\\epsilon$ corresponds to random noise sampled from a Gaussian\n",
    "distribution with mean 0 and standard deviation of 2. "
   ]
  },
  {
   "cell_type": "markdown",
   "metadata": {},
   "source": [
    "__Step 1: Generate Dataset__"
   ]
  },
  {
   "cell_type": "markdown",
   "metadata": {},
   "source": [
    "**<font color=\"red\">Code:</font>**"
   ]
  },
  {
   "cell_type": "code",
   "execution_count": 1,
   "metadata": {},
   "outputs": [
    {
     "data": {
      "text/plain": [
       "Text(0, 0.5, 'y')"
      ]
     },
     "execution_count": 1,
     "metadata": {},
     "output_type": "execute_result"
    },
    {
     "data": {
      "image/png": "[encoded data removed]",
      "text/plain": [
       "<Figure size 432x288 with 1 Axes>"
      ]
     },
     "metadata": {
      "needs_background": "light"
     },
     "output_type": "display_data"
    }
   ],
   "source": [
    "import numpy as np\n",
    "import matplotlib.pyplot as plt\n",
    "\n",
    "seed = 1            # seed for random number generation \n",
    "numInstances = 100   # number of data instances\n",
    "np.random.seed(seed)\n",
    "X = np.random.rand(numInstances,1).reshape(-1,1) # create x value that range from 0 to 1 uniformly distributed\n",
    "Y_true = -5*X + 5                                # weight is -5 and intercept is +5 -> values between 0 to 5\n",
    "Y = Y_true + np.random.normal(0,2,numInstances).reshape(-1,1) #the true Y is corrupted by gaussian noise (mean of 0 and sd of 2)\n",
    "plt.scatter(X, Y,  color='red')\n",
    "plt.plot(X, Y_true, color='green', linewidth=3)\n",
    "plt.title('True function: Y = -5X + 5')\n",
    "plt.xlabel('X')\n",
    "plt.ylabel('y')"
   ]
  },
  {
   "cell_type": "code",
   "execution_count": 2,
   "metadata": {},
   "outputs": [
    {
     "name": "stdout",
     "output_type": "stream",
     "text": [
      "(100, 1) (100, 1) (100, 1)\n"
     ]
    }
   ],
   "source": [
    "print(X.shape, Y_true.shape, Y.shape)"
   ]
  },
  {
   "cell_type": "code",
   "execution_count": 3,
   "metadata": {},
   "outputs": [
    {
     "data": {
      "text/plain": [
       "(array([[4.17022005e-01],\n",
       "        [7.20324493e-01],\n",
       "        [1.14374817e-04],\n",
       "        [3.02332573e-01],\n",
       "        [1.46755891e-01]]),\n",
       " array([[2.91488998],\n",
       "        [1.39837753],\n",
       "        [4.99942813],\n",
       "        [3.48833714],\n",
       "        [4.26622055]]),\n",
       " array([[ 3.54615987],\n",
       "        [-2.6460249 ],\n",
       "        [ 4.3870201 ],\n",
       "        [ 5.14428642],\n",
       "        [ 4.72641002]]))"
      ]
     },
     "execution_count": 3,
     "metadata": {},
     "output_type": "execute_result"
    }
   ],
   "source": [
    "X[:5], Y_true[:5], Y[:5]"
   ]
  },
  {
   "cell_type": "markdown",
   "metadata": {},
   "source": [
    "__Step 2: Perform Linear Regression__\n",
    "\n",
    "Use Python scikit-learn package to fit a multiple linear regression (MLR) model. Given a training set {X,Y}, MLR \n",
    "is designed to learn the regression function $f(X,w) = X^T w + w_0$ by minimizing the following loss function given\n",
    "a training set $\\{X_i,Y_i\\}_{i=1}^N$:\n",
    "    $$L(y,f(X,w)) = \\sum_{i=1}^N \\|Y_i - X_i w - w_0\\|^2,$$\n",
    " \n",
    "where $w$ (slope) and $w_0$ (intercept) are the regression coefficients.\n",
    "\n",
    "Given the input dataset, the following steps are performed:\n",
    "    \n",
    "1.Split the input data into their respective training and test sets.\n",
    "\n",
    "2.Fit multiple linear regression to the training data.\n",
    "\n",
    "3.Apply the model to the test data.\n",
    "\n",
    "4.Evaluate the performance of the model.\n",
    "\n",
    "5.Postprocessing: Visualizing the fitted model."
   ]
  },
  {
   "cell_type": "markdown",
   "metadata": {},
   "source": [
    "__1)Split the Data into Training and Test Set for both output Y and variable X in the ratio of 70:30.\n",
    "This mean 70:30 since we have 100 data__\n",
    "    \n",
    "1)X_train (70% of X data)\n",
    "\n",
    "2)X_test (30% of X data)\n",
    "\n",
    "3)Y_train (70% of Y data)\n",
    "\n",
    "4)Y_test (30% of Y data)"
   ]
  },
  {
   "cell_type": "markdown",
   "metadata": {},
   "source": [
    "**<font color=\"red\">Code:</font>**"
   ]
  },
  {
   "cell_type": "code",
   "execution_count": 4,
   "metadata": {},
   "outputs": [
    {
     "name": "stdout",
     "output_type": "stream",
     "text": [
      "(70, 1) (30, 1) (70, 1) (30, 1)\n"
     ]
    }
   ],
   "source": [
    "numTrain = 70   # number of training instances\n",
    "numTest = numInstances - numTrain\n",
    "X_train = X[:-numTest]      #first numTrain sample of X\n",
    "X_test = X[-numTest:]       #the numTrain+1 sample onwards of X\n",
    "Y_train = Y[:-numTest]\n",
    "Y_test = Y[-numTest:]\n",
    "print(X_train.shape, X_test.shape, Y_train.shape, Y_test.shape)"
   ]
  },
  {
   "cell_type": "code",
   "execution_count": 5,
   "metadata": {},
   "outputs": [
    {
     "data": {
      "text/plain": [
       "(array([[4.17022005e-01],\n",
       "        [7.20324493e-01],\n",
       "        [1.14374817e-04]]),\n",
       " array([[0.90340192],\n",
       "        [0.1374747 ],\n",
       "        [0.13927635]]),\n",
       " array([[ 3.54615987],\n",
       "        [-2.6460249 ],\n",
       "        [ 4.3870201 ]]),\n",
       " array([[1.54192107],\n",
       "        [4.5880289 ],\n",
       "        [4.45926052]]))"
      ]
     },
     "execution_count": 5,
     "metadata": {},
     "output_type": "execute_result"
    }
   ],
   "source": [
    "X_train[:3], X_test[:3], Y_train[:3], Y_test[:3]"
   ]
  },
  {
   "cell_type": "markdown",
   "metadata": {},
   "source": [
    "__2)Fit Regression Model to Training Set__\n",
    "\n",
    "Import sklearn linear model and call LinearRegression method followed by fit."
   ]
  },
  {
   "cell_type": "markdown",
   "metadata": {},
   "source": [
    "**<font color=\"red\">Code:</font>**"
   ]
  },
  {
   "cell_type": "code",
   "execution_count": 6,
   "metadata": {},
   "outputs": [],
   "source": [
    "from sklearn import linear_model\n",
    "\n",
    "# Create linear regression object\n",
    "regr = linear_model.LinearRegression()\n",
    "\n",
    "# Fit regression model to the training set\n",
    "regr = regr.fit(X_train, Y_train)"
   ]
  },
  {
   "cell_type": "markdown",
   "metadata": {},
   "source": [
    "__3)Apply the trained model to the test set with predict method to get predict Y__"
   ]
  },
  {
   "cell_type": "markdown",
   "metadata": {},
   "source": [
    "**<font color=\"red\">Code:</font>**"
   ]
  },
  {
   "cell_type": "code",
   "execution_count": 7,
   "metadata": {},
   "outputs": [],
   "source": [
    "# Apply model to the test set\n",
    "Y_pred_test = regr.predict(X_test)"
   ]
  },
  {
   "cell_type": "markdown",
   "metadata": {},
   "source": [
    "__4)Evaluate the performance on test set output using RMSE and $R^2$ score__\n",
    "\n",
    "Import mean_squared_error and $R^2$ score from sklearn.metrics. Plot the measured Y values verus predicted Y values"
   ]
  },
  {
   "cell_type": "markdown",
   "metadata": {},
   "source": [
    "**<font color=\"red\">Code: </font>**"
   ]
  },
  {
   "cell_type": "code",
   "execution_count": 8,
   "metadata": {},
   "outputs": [
    {
     "name": "stdout",
     "output_type": "stream",
     "text": [
      "Root mean squared error = 2.0842\n",
      "R-squared = 0.4079\n"
     ]
    },
    {
     "data": {
      "image/png": "[encoded data removed]",
      "text/plain": [
       "<Figure size 432x288 with 1 Axes>"
      ]
     },
     "metadata": {
      "needs_background": "light"
     },
     "output_type": "display_data"
    }
   ],
   "source": [
    "# Comparing true versus predicted values\n",
    "from sklearn.metrics import mean_squared_error, r2_score\n",
    "plt.scatter(Y_test, Y_pred_test, color='red')\n",
    "plt.title('Comparing Measured and predicted values for test set')\n",
    "plt.xlabel('Measured values for y')\n",
    "plt.ylabel('Predicted values for y')\n",
    "\n",
    "# Model evaluation\n",
    "print(\"Root mean squared error = %.4f\" % np.sqrt(mean_squared_error(Y_test, Y_pred_test)))\n",
    "print('R-squared = %.4f' % r2_score(Y_test, Y_pred_test))"
   ]
  },
  {
   "cell_type": "markdown",
   "metadata": {},
   "source": [
    "__5)PostPocessing: Visualization__\n",
    "    \n",
    "Plot predicted regression line against the dropback of test set. Use the lineaRegression.coef_[0] and \n",
    "lineaRegression.intercept_[0] to show both the regression cofficient and y intercept"
   ]
  },
  {
   "cell_type": "markdown",
   "metadata": {},
   "source": [
    "**<font color=\"red\">Code:</font>**\n"
   ]
  },
  {
   "cell_type": "code",
   "execution_count": 9,
   "metadata": {},
   "outputs": [
    {
     "name": "stdout",
     "output_type": "stream",
     "text": [
      "Slope =  -5.510957637305676\n",
      "Intercept =  5.343851050907217\n"
     ]
    },
    {
     "data": {
      "text/plain": [
       "Text(0, 0.5, 'y')"
      ]
     },
     "execution_count": 9,
     "metadata": {},
     "output_type": "execute_result"
    },
    {
     "data": {
      "image/png": "[encoded data removed]",
      "text/plain": [
       "<Figure size 720x720 with 1 Axes>"
      ]
     },
     "metadata": {
      "needs_background": "light"
     },
     "output_type": "display_data"
    }
   ],
   "source": [
    "# Display model parameters\n",
    "print('Slope = ', regr.coef_[0][0])   #get the gradient/regression\n",
    "print('Intercept = ', regr.intercept_[0])### Step 4: Postprocessing\n",
    "\n",
    "# Plot outputs\n",
    "plt.rcParams[\"figure.figsize\"] = (10,10)\n",
    "plt.scatter(X_test, Y_test,  color='red')\n",
    "plt.plot(X_test, Y_pred_test, color='blue', linewidth=3)\n",
    "plt.plot(X, Y_true, 'g-.', linewidth=0.1)\n",
    "titlestr = 'Predicted Function: y = %.2fX + %.2f' % (regr.coef_[0], regr.intercept_[0])\n",
    "plt.title(titlestr)\n",
    "plt.xlabel('X')\n",
    "plt.ylabel('y')"
   ]
  },
  {
   "cell_type": "code",
   "execution_count": 10,
   "metadata": {},
   "outputs": [],
   "source": [
    "plt.rcParams[\"figure.figsize\"] = plt.rcParamsDefault[\"figure.figsize\"]"
   ]
  },
  {
   "cell_type": "markdown",
   "metadata": {},
   "source": [
    "## Question 2: Explore the effect among features that are correlated"
   ]
  },
  {
   "cell_type": "markdown",
   "metadata": {},
   "source": [
    "The presence of correlated attributes can affect the performance of regression models. We create \n",
    "4 additional variables, X2, X3, X4, and X5 that are strongly correlated with the previous variable X created in \n",
    "Question 2 with the following relationship. \n",
    "\n",
    "1) X2=0.5X + gaussian noise of zero mean and std variation of 0.05\n",
    "\n",
    "2) X3=0.5X2 + gaussian noise of zero mean and std variation of 0.01\n",
    "\n",
    "3) X4=0.5X3 + gaussian noise of zero mean and std variation of 0.01\n",
    "\n",
    "4) X5=0.5X4 + gaussian noise of zero mean and std variation of 0.01\n",
    "\n",
    "\n",
    "We then fit y against the predictor variables and compare their training and test set errors. \n"
   ]
  },
  {
   "cell_type": "markdown",
   "metadata": {},
   "source": [
    "__Step1: Create the 4 additional features X2 to X5__"
   ]
  },
  {
   "cell_type": "markdown",
   "metadata": {},
   "source": [
    "**<font color=\"red\">Code:</font>**"
   ]
  },
  {
   "cell_type": "code",
   "execution_count": 11,
   "metadata": {},
   "outputs": [
    {
     "name": "stdout",
     "output_type": "stream",
     "text": [
      "(100, 1) (100, 1) (100, 1) (100, 1) (100, 1)\n"
     ]
    }
   ],
   "source": [
    "seed = 1\n",
    "np.random.seed(seed)\n",
    "X2 = 0.5*X + np.random.normal(0, 0.05, size=numInstances).reshape(-1,1)\n",
    "X3 = 0.5*X2 + np.random.normal(0, 0.01, size=numInstances).reshape(-1,1)\n",
    "X4 = 0.5*X3 + np.random.normal(0, 0.01, size=numInstances).reshape(-1,1)\n",
    "X5 = 0.5*X4 + np.random.normal(0, 0.01, size=numInstances).reshape(-1,1)\n",
    "print(X.shape, X2.shape, X3.shape, X4.shape, X5.shape)"
   ]
  },
  {
   "cell_type": "markdown",
   "metadata": {},
   "source": [
    "__Step 2: Plot the pairwise correlation among each other__ using np.correcoef to find correlation for  \n",
    "    \n",
    "1)Between X and X2\n",
    "\n",
    "2)Between X2 and X3\n",
    "\n",
    "3)Between X3 and X4\n",
    "\n",
    "4)Between X4 and X5\n",
    "\n",
    "Use np.column_stack to stack two set of data"
   ]
  },
  {
   "cell_type": "markdown",
   "metadata": {},
   "source": [
    "**<font color=\"red\">Code:</font>**\n"
   ]
  },
  {
   "cell_type": "code",
   "execution_count": 12,
   "metadata": {},
   "outputs": [
    {
     "data": {
      "text/plain": [
       "Text(0.5, 1.0, 'Correlation between X4 and X5 = 0.8825')"
      ]
     },
     "execution_count": 12,
     "metadata": {},
     "output_type": "execute_result"
    },
    {
     "data": {
      "image/png": "[encoded data removed]",
      "text/plain": [
       "<Figure size 864x648 with 4 Axes>"
      ]
     },
     "metadata": {
      "needs_background": "light"
     },
     "output_type": "display_data"
    }
   ],
   "source": [
    "fig, ((ax1, ax2),(ax3,ax4)) = plt.subplots(2, 2, figsize=(12,9))\n",
    "ax1.scatter(X, X2, color='black')\n",
    "ax1.set_xlabel('X')\n",
    "ax1.set_ylabel('X2')\n",
    "c = np.corrcoef(np.column_stack((X[:-numTest],X2[:-numTest])).T) # Pearson product-moment correlation coefficients\n",
    "titlestr = 'Correlation between X and X2 = %.4f' % (c[0,1])\n",
    "ax1.set_title(titlestr)\n",
    "\n",
    "ax2.scatter(X2, X3, color='black')\n",
    "ax2.set_xlabel('X2')\n",
    "ax2.set_ylabel('X3')\n",
    "c = np.corrcoef(np.column_stack((X2[:-numTest],X3[:-numTest])).T) # Pearson product-moment correlation coefficients\n",
    "titlestr = 'Correlation between X2 and X3 = %.4f' % (c[0,1])\n",
    "ax2.set_title(titlestr)\n",
    "\n",
    "ax3.scatter(X3, X4, color='black')\n",
    "ax3.set_xlabel('X3')\n",
    "ax3.set_ylabel('X4')\n",
    "c = np.corrcoef(np.column_stack((X3[:-numTest],X4[:-numTest])).T)\n",
    "titlestr = 'Correlation between X3 and X4 = %.4f' % (c[0,1])\n",
    "ax3.set_title(titlestr)\n",
    "\n",
    "ax4.scatter(X4, X5, color='black')\n",
    "ax4.set_xlabel('X4')\n",
    "ax4.set_ylabel('X5')\n",
    "c = np.corrcoef(np.column_stack((X4[:-numTest],X5[:-numTest])).T)\n",
    "titlestr = 'Correlation between X4 and X5 = %.4f' % (c[0,1])\n",
    "ax4.set_title(titlestr)\n"
   ]
  },
  {
   "cell_type": "markdown",
   "metadata": {},
   "source": [
    "__Step 3: Create 4 set of training and test set each with ratio of 70:30__ using np.column_stack\n",
    "        \n",
    "1)X_train2 = [70 set of X, 70 set of X2] \n",
    "\n",
    "1)X_test2 = [30 set of X, 30 set of X2]\n",
    "\n",
    "2)X_train3 = [70 set of X, 70 set of X2, 70 set of X3] \n",
    "\n",
    "2)X_test3 = [30 set of X, 30 set of X2, 30 set of X3]\n",
    "\n",
    "3)X_train4 = [70 set of X, 70 set of X2, 70 set of X3, 70 set of X4] \n",
    "\n",
    "3)X_test4 = [30 set of X, 30 set of X2, 30 set of X3, 30 set of X4]\n",
    "\n",
    "4)X_train5 = [70 set of X, 70 set of X2, 70 set of X3, 70 set of X4, 70 set of X5] \n",
    "\n",
    "4)X_test5 = [30 set of X, 30 set of X2, 30 set of X3, 30 set of X4, 30 set of X5] \n",
    "        \n",
    "        \n",
    "The first pair, X_train2 and X_test2 have 2 correlated predictor variables, X and X2. \n",
    "\n",
    "The second pair, X_train3 and X_test3 have 3 correlated predictor variables, X, X2, and X3. \n",
    "\n",
    "The third pair have 4 correlated variables, X, X2, X3, and X4 \n",
    "\n",
    "The last pair have 5 correlated variables, X, X2, X3, X4, and X5."
   ]
  },
  {
   "cell_type": "markdown",
   "metadata": {},
   "source": [
    "**<font color=\"red\">Code:</font>**"
   ]
  },
  {
   "cell_type": "code",
   "execution_count": 13,
   "metadata": {},
   "outputs": [
    {
     "name": "stdout",
     "output_type": "stream",
     "text": [
      "(70, 1)\n",
      "(70, 2)\n",
      "[[ 7.20324493e-01  3.29574426e-01]\n",
      " [ 1.14374817e-04 -2.63514002e-02]\n",
      " [ 3.02332573e-01  9.75178552e-02]\n",
      " [ 1.46755891e-01  1.16648327e-01]]\n"
     ]
    }
   ],
   "source": [
    "X_train2 = np.column_stack((X[:-numTest],X2[:-numTest]))\n",
    "print(X[:-numTest].shape)\n",
    "print(X_train2.shape)\n",
    "print(X_train2[1:5,:])\n",
    "X_test2 = np.column_stack((X[-numTest:],X2[-numTest:]))\n",
    "X_train3 = np.column_stack((X[:-numTest],X2[:-numTest],X3[:-numTest]))\n",
    "X_test3 = np.column_stack((X[-numTest:],X2[-numTest:],X3[-numTest:]))\n",
    "X_train4 = np.column_stack((X[:-numTest],X2[:-numTest],X3[:-numTest],X4[:-numTest]))\n",
    "X_test4 = np.column_stack((X[-numTest:],X2[-numTest:],X3[-numTest:],X4[-numTest:]))\n",
    "X_train5 = np.column_stack((X[:-numTest],X2[:-numTest],X3[:-numTest],X4[:-numTest],X5[:-numTest]))\n",
    "X_test5 = np.column_stack((X[-numTest:],X2[-numTest:],X3[-numTest:],X4[-numTest:],X5[-numTest:]))"
   ]
  },
  {
   "cell_type": "markdown",
   "metadata": {},
   "source": [
    "__Step 4: Train the 4 new regression models based on the 4 pairs of training and test data created in the step 3.__\n",
    "    \n",
    "Run LinearRegression and fit method for \n",
    "\n",
    "1)X_train2 and Y_train\n",
    "\n",
    "2)X_train3 and Y_train\n",
    "\n",
    "3)X_train4 and Y_train\n",
    "\n",
    "4)X_train5 and Y_train"
   ]
  },
  {
   "cell_type": "markdown",
   "metadata": {},
   "source": [
    "**<font color=\"red\">Code:</font>**\n"
   ]
  },
  {
   "cell_type": "code",
   "execution_count": 14,
   "metadata": {},
   "outputs": [
    {
     "name": "stdout",
     "output_type": "stream",
     "text": [
      "(70, 2)\n",
      "(70, 1)\n"
     ]
    },
    {
     "data": {
      "text/plain": [
       "LinearRegression()"
      ]
     },
     "execution_count": 14,
     "metadata": {},
     "output_type": "execute_result"
    }
   ],
   "source": [
    "regr2 = linear_model.LinearRegression()\n",
    "regr2.fit(X_train2, Y_train)\n",
    "print(X_train2.shape)\n",
    "print(Y_train.shape)\n",
    "regr3 = linear_model.LinearRegression()\n",
    "regr3.fit(X_train3, Y_train)\n",
    "\n",
    "regr4 = linear_model.LinearRegression()\n",
    "regr4.fit(X_train4, Y_train)\n",
    "\n",
    "regr5 = linear_model.LinearRegression()\n",
    "regr5.fit(X_train5, Y_train)"
   ]
  },
  {
   "cell_type": "markdown",
   "metadata": {},
   "source": [
    "__Step 5 : Apply created regression model to both training and test data sets__\n",
    "\n",
    "Predict the output training output and test output \n",
    "\n",
    "1)Y_pred_train, Y_pred_train2,Y_pred_train3,Y_pred_train4,Y_pred_train5\n",
    "\n",
    "2)Y_pred_test,Y_pred_test2,Y_pred_test3,Y_pred_test4,Y_pred_test5 \n",
    "\n",
    "with the respective training and test of X namely \n",
    "\n",
    "1)X_train, X_train2, X_train3, X_train4, X_train5 \n",
    "\n",
    "2)X_test, X_test2, X_test3, X_test4, X_test5"
   ]
  },
  {
   "cell_type": "markdown",
   "metadata": {},
   "source": [
    "**<font color=\"red\">Code:</font>**"
   ]
  },
  {
   "cell_type": "code",
   "execution_count": 15,
   "metadata": {},
   "outputs": [],
   "source": [
    "Y_pred_train = regr.predict(X_train)\n",
    "Y_pred_test = regr.predict(X_test)\n",
    "Y_pred_train2 = regr2.predict(X_train2)\n",
    "Y_pred_test2 = regr2.predict(X_test2)\n",
    "Y_pred_train3 = regr3.predict(X_train3)\n",
    "Y_pred_test3 = regr3.predict(X_test3)\n",
    "Y_pred_train4 = regr4.predict(X_train4)\n",
    "Y_pred_test4 = regr4.predict(X_test4)\n",
    "Y_pred_train5 = regr5.predict(X_train5)\n",
    "Y_pred_test5 = regr5.predict(X_test5)"
   ]
  },
  {
   "cell_type": "markdown",
   "metadata": {},
   "source": [
    "__Step6: PostProcessing-Visualization__\n",
    "    \n",
    "For postprocessing, compute both the training and test errors of the models. Show the resulting model and \n",
    "the sum of the absolute weights of the regression coefficients, i.e., $\\sum_{j=0}^k |w_j|$, where $k$ is the \n",
    "number of predictor features.\n",
    "\n",
    "1)obtain RMSE error between Y_train and Y_pred_train\n",
    "\n",
    "2)obtain RMSE error between Y_test and Y_pred_test\n",
    "\n",
    "3)obtain sum of the weight as shown above in the formulae"
   ]
  },
  {
   "cell_type": "markdown",
   "metadata": {},
   "source": [
    "**<font color=\"red\">Code:</font>**"
   ]
  },
  {
   "cell_type": "code",
   "execution_count": 16,
   "metadata": {},
   "outputs": [
    {
     "data": {
      "text/html": [
       "<div>\n",
       "<style scoped>\n",
       "    .dataframe tbody tr th:only-of-type {\n",
       "        vertical-align: middle;\n",
       "    }\n",
       "\n",
       "    .dataframe tbody tr th {\n",
       "        vertical-align: top;\n",
       "    }\n",
       "\n",
       "    .dataframe thead th {\n",
       "        text-align: right;\n",
       "    }\n",
       "</style>\n",
       "<table border=\"1\" class=\"dataframe\">\n",
       "  <thead>\n",
       "    <tr style=\"text-align: right;\">\n",
       "      <th></th>\n",
       "      <th>Model</th>\n",
       "      <th>Train error</th>\n",
       "      <th>Test error</th>\n",
       "      <th>Sum of Absolute Weights</th>\n",
       "    </tr>\n",
       "  </thead>\n",
       "  <tbody>\n",
       "    <tr>\n",
       "      <th>0</th>\n",
       "      <td>-5.51 X + 5.34</td>\n",
       "      <td>1.648503</td>\n",
       "      <td>2.084219</td>\n",
       "      <td>10.854809</td>\n",
       "    </tr>\n",
       "    <tr>\n",
       "      <th>1</th>\n",
       "      <td>-3.44 X + -4.15 X2 + 5.36</td>\n",
       "      <td>1.636466</td>\n",
       "      <td>2.068783</td>\n",
       "      <td>12.949972</td>\n",
       "    </tr>\n",
       "    <tr>\n",
       "      <th>2</th>\n",
       "      <td>-3.77 X + 6.56 X2 + -20.53 X3 + 5.42</td>\n",
       "      <td>1.625368</td>\n",
       "      <td>2.124767</td>\n",
       "      <td>36.282632</td>\n",
       "    </tr>\n",
       "    <tr>\n",
       "      <th>3</th>\n",
       "      <td>-3.70 X + 6.01 X2 + -18.17 X3 + -2.83 X4 + 5.41</td>\n",
       "      <td>1.625115</td>\n",
       "      <td>2.120890</td>\n",
       "      <td>36.116948</td>\n",
       "    </tr>\n",
       "    <tr>\n",
       "      <th>4</th>\n",
       "      <td>-3.72 X + 5.83 X2 + -17.61 X3 + -5.60 X4 + 5.2...</td>\n",
       "      <td>1.624172</td>\n",
       "      <td>2.122645</td>\n",
       "      <td>43.440441</td>\n",
       "    </tr>\n",
       "  </tbody>\n",
       "</table>\n",
       "</div>"
      ],
      "text/plain": [
       "                                               Model  Train error  Test error  \\\n",
       "0                                     -5.51 X + 5.34     1.648503    2.084219   \n",
       "1                          -3.44 X + -4.15 X2 + 5.36     1.636466    2.068783   \n",
       "2               -3.77 X + 6.56 X2 + -20.53 X3 + 5.42     1.625368    2.124767   \n",
       "3    -3.70 X + 6.01 X2 + -18.17 X3 + -2.83 X4 + 5.41     1.625115    2.120890   \n",
       "4  -3.72 X + 5.83 X2 + -17.61 X3 + -5.60 X4 + 5.2...     1.624172    2.122645   \n",
       "\n",
       "   Sum of Absolute Weights  \n",
       "0                10.854809  \n",
       "1                12.949972  \n",
       "2                36.282632  \n",
       "3                36.116948  \n",
       "4                43.440441  "
      ]
     },
     "execution_count": 16,
     "metadata": {},
     "output_type": "execute_result"
    },
    {
     "data": {
      "image/png": "[encoded data removed]",
      "text/plain": [
       "<Figure size 460.8x345.6 with 1 Axes>"
      ]
     },
     "metadata": {
      "needs_background": "light"
     },
     "output_type": "display_data"
    }
   ],
   "source": [
    "import pandas as pd\n",
    "import matplotlib.pyplot as plt\n",
    "\n",
    "columns = ['Model', 'Train error', 'Test error', 'Sum of Absolute Weights']\n",
    "model1 = \"%.2f X + %.2f\" % (regr.coef_[0][0], regr.intercept_[0])\n",
    "values1 = [ model1, np.sqrt(mean_squared_error(Y_train, Y_pred_train)), \n",
    "           np.sqrt(mean_squared_error(Y_test, Y_pred_test)),\n",
    "           np.absolute(regr.coef_[0]).sum() + np.absolute(regr.intercept_[0])]\n",
    "\n",
    "model2 = \"%.2f X + %.2f X2 + %.2f\" % (regr2.coef_[0][0], regr2.coef_[0][1], regr2.intercept_[0])\n",
    "values2 = [ model2, np.sqrt(mean_squared_error(Y_train, Y_pred_train2)), \n",
    "           np.sqrt(mean_squared_error(Y_test, Y_pred_test2)),\n",
    "           np.absolute(regr2.coef_[0]).sum() + np.absolute(regr2.intercept_[0])]\n",
    "\n",
    "model3 = \"%.2f X + %.2f X2 + %.2f X3 + %.2f\" % (regr3.coef_[0][0], regr3.coef_[0][1], \n",
    "                                                regr3.coef_[0][2], regr3.intercept_[0])\n",
    "values3 = [ model3, np.sqrt(mean_squared_error(Y_train, Y_pred_train3)), \n",
    "           np.sqrt(mean_squared_error(Y_test, Y_pred_test3)),\n",
    "           np.absolute(regr3.coef_[0]).sum() + np.absolute(regr3.intercept_[0])]\n",
    "\n",
    "model4 = \"%.2f X + %.2f X2 + %.2f X3 + %.2f X4 + %.2f\" % (regr4.coef_[0][0], regr4.coef_[0][1], \n",
    "                                        regr4.coef_[0][2], regr4.coef_[0][3], regr4.intercept_[0])\n",
    "values4 = [ model4, np.sqrt(mean_squared_error(Y_train, Y_pred_train4)), \n",
    "           np.sqrt(mean_squared_error(Y_test, Y_pred_test4)),\n",
    "           np.absolute(regr4.coef_[0]).sum() + np.absolute(regr4.intercept_[0])]\n",
    "\n",
    "model5 = \"%.2f X + %.2f X2 + %.2f X3 + %.2f X4 + %.2f X5 + %.2f\" % (regr5.coef_[0][0], \n",
    "                                        regr5.coef_[0][1], regr5.coef_[0][2], \n",
    "                                        regr5.coef_[0][3], regr5.coef_[0][4], regr5.intercept_[0])\n",
    "values5 = [ model5, np.sqrt(mean_squared_error(Y_train, Y_pred_train5)), \n",
    "           np.sqrt(mean_squared_error(Y_test, Y_pred_test5)),\n",
    "           np.absolute(regr5.coef_[0]).sum() + np.absolute(regr5.intercept_[0])]\n",
    "\n",
    "results = pd.DataFrame([values1, values2, values3, values4, values5], columns=columns)\n",
    "\n",
    "plt.plot(results['Sum of Absolute Weights'], results['Train error'], 'ro-')\n",
    "plt.plot(results['Sum of Absolute Weights'], results['Test error'], 'k*--')\n",
    "plt.legend(['Train error', 'Test error'])\n",
    "plt.xlabel('Sum of Absolute Weights')\n",
    "plt.ylabel('Error rate')\n",
    "\n",
    "results"
   ]
  },
  {
   "cell_type": "code",
   "execution_count": 17,
   "metadata": {},
   "outputs": [
    {
     "name": "stdout",
     "output_type": "stream",
     "text": [
      "[ -3.71552637   5.83236697 -17.60975834  -5.60395508   5.28071349] 5.3981210805128095\n"
     ]
    }
   ],
   "source": [
    "print(regr5.coef_[0], regr5.intercept_[0])"
   ]
  },
  {
   "cell_type": "code",
   "execution_count": 18,
   "metadata": {},
   "outputs": [
    {
     "data": {
      "text/plain": [
       "43.44044133458759"
      ]
     },
     "execution_count": 18,
     "metadata": {},
     "output_type": "execute_result"
    }
   ],
   "source": [
    "np.absolute(regr5.coef_[0]).sum() + np.absolute(regr5.intercept_[0])"
   ]
  },
  {
   "cell_type": "code",
   "execution_count": 19,
   "metadata": {},
   "outputs": [
    {
     "name": "stdout",
     "output_type": "stream",
     "text": [
      "-3.72 X + 5.83 X2 + -17.61 X3 + -5.60 X4 + 5.28 X5 + 5.40\n"
     ]
    }
   ],
   "source": [
    "print(model5)"
   ]
  },
  {
   "cell_type": "markdown",
   "metadata": {},
   "source": [
    "Observation:\n",
    "\n",
    "The results above show that the first model, which fits y against X only, has the largest training error, but \n",
    "smallest test error, whereas the fifth model, which fits y against X and other correlated attributes, has the \n",
    "smallest training error but largest test error. This is due to a phenomenon known as model overfitting, in which \n",
    "the low training error of the model does not reflect how well the model will perform on previously unseen test \n",
    "instances. From the plot shown above, observe that the disparity between the training and test errors becomes \n",
    "wider as the sum of absolute weights of the model (which represents the model complexity) increases. Thus, one \n",
    "should control the complexity of the regression model to avoid the model overfitting problem."
   ]
  },
  {
   "cell_type": "markdown",
   "metadata": {},
   "source": [
    "## Question 3: Regularization"
   ]
  },
  {
   "cell_type": "markdown",
   "metadata": {},
   "source": [
    "__i)Ridge regression__ is a variant of MLR designed to fit a linear model to the dataset by minimizing the following \n",
    "regularized least-square loss function:\n",
    "$$L_{\\textrm{ridge}}(y,f(X,w)) = \\sum_{i=1}^N \\|y_i - X_iw - w_0\\|^2 + \\alpha \\bigg[\\|w\\|^2 + w_0^2 \\bigg],$$\n",
    "where $\\alpha$ is the hyperparameter for ridge regression. Note that the ridge regression model reduces to MLR when\n",
    "$\\alpha = 0$. By increasing the value of $\\alpha$, we can control the complexity of the model "
   ]
  },
  {
   "cell_type": "markdown",
   "metadata": {},
   "source": [
    "__Step1:Train the Ridge model__\n",
    "\n",
    "1)Import sklearn.linear_model libray. \n",
    "\n",
    "2)Use the Ridge(alpha=0.5) method. Set $\\alpha$=0.5\n",
    "\n",
    "3)Use fit() method to train on the X_train5 and Y_train to get the Ridge model"
   ]
  },
  {
   "cell_type": "markdown",
   "metadata": {},
   "source": [
    "**<font color=\"red\">Code:</font>**"
   ]
  },
  {
   "cell_type": "code",
   "execution_count": 20,
   "metadata": {},
   "outputs": [
    {
     "data": {
      "text/plain": [
       "Ridge(alpha=0.5)"
      ]
     },
     "execution_count": 20,
     "metadata": {},
     "output_type": "execute_result"
    }
   ],
   "source": [
    "from sklearn import linear_model\n",
    "\n",
    "ridge = linear_model.Ridge(alpha=0.5)\n",
    "ridge.fit(X_train5, Y_train)"
   ]
  },
  {
   "cell_type": "markdown",
   "metadata": {},
   "source": [
    "__Step2:Predict the output using the trained model__\n",
    " \n",
    "1)Use the predict() method to obtain the \n",
    "\n",
    "i)Y_pred_train_ridge with X_train5 data\n",
    "\n",
    "ii)Y_pred_test_ridge with X_test5 data\n"
   ]
  },
  {
   "cell_type": "markdown",
   "metadata": {},
   "source": [
    "**<font color=\"red\">Code:</font>**"
   ]
  },
  {
   "cell_type": "code",
   "execution_count": 21,
   "metadata": {},
   "outputs": [],
   "source": [
    "Y_pred_train_ridge = ridge.predict(X_train5)\n",
    "Y_pred_test_ridge = ridge.predict(X_test5)"
   ]
  },
  {
   "cell_type": "markdown",
   "metadata": {},
   "source": [
    "__Step3: Performance Evaluation and show the results__\n",
    "    \n",
    "1)use RMSE error between Y_train and Y_pred_train_ridge\n",
    "\n",
    "2)use RMSE error between Y_test and Y_pred_test_ridge\n",
    "\n",
    "3)obtain sum of the weight"
   ]
  },
  {
   "cell_type": "markdown",
   "metadata": {},
   "source": [
    "**<font color=\"red\">Code:</font>**"
   ]
  },
  {
   "cell_type": "code",
   "execution_count": 22,
   "metadata": {},
   "outputs": [
    {
     "data": {
      "text/html": [
       "<div>\n",
       "<style scoped>\n",
       "    .dataframe tbody tr th:only-of-type {\n",
       "        vertical-align: middle;\n",
       "    }\n",
       "\n",
       "    .dataframe tbody tr th {\n",
       "        vertical-align: top;\n",
       "    }\n",
       "\n",
       "    .dataframe thead th {\n",
       "        text-align: right;\n",
       "    }\n",
       "</style>\n",
       "<table border=\"1\" class=\"dataframe\">\n",
       "  <thead>\n",
       "    <tr style=\"text-align: right;\">\n",
       "      <th></th>\n",
       "      <th>Model</th>\n",
       "      <th>Train error</th>\n",
       "      <th>Test error</th>\n",
       "      <th>Sum of Absolute Weights</th>\n",
       "    </tr>\n",
       "  </thead>\n",
       "  <tbody>\n",
       "    <tr>\n",
       "      <th>0</th>\n",
       "      <td>-5.51 X + 5.34</td>\n",
       "      <td>1.648503</td>\n",
       "      <td>2.084219</td>\n",
       "      <td>10.854809</td>\n",
       "    </tr>\n",
       "    <tr>\n",
       "      <th>1</th>\n",
       "      <td>-3.44 X + -4.15 X2 + 5.36</td>\n",
       "      <td>1.636466</td>\n",
       "      <td>2.068783</td>\n",
       "      <td>12.949972</td>\n",
       "    </tr>\n",
       "    <tr>\n",
       "      <th>2</th>\n",
       "      <td>-3.77 X + 6.56 X2 + -20.53 X3 + 5.42</td>\n",
       "      <td>1.625368</td>\n",
       "      <td>2.124767</td>\n",
       "      <td>36.282632</td>\n",
       "    </tr>\n",
       "    <tr>\n",
       "      <th>3</th>\n",
       "      <td>-3.70 X + 6.01 X2 + -18.17 X3 + -2.83 X4 + 5.41</td>\n",
       "      <td>1.625115</td>\n",
       "      <td>2.120890</td>\n",
       "      <td>36.116948</td>\n",
       "    </tr>\n",
       "    <tr>\n",
       "      <th>4</th>\n",
       "      <td>-3.72 X + 5.83 X2 + -17.61 X3 + -5.60 X4 + 5.2...</td>\n",
       "      <td>1.624172</td>\n",
       "      <td>2.122645</td>\n",
       "      <td>43.440441</td>\n",
       "    </tr>\n",
       "    <tr>\n",
       "      <th>Ridge</th>\n",
       "      <td>-3.68 X + -2.18 X2 + -1.30 X3 + -0.78 X4 + -0....</td>\n",
       "      <td>1.637614</td>\n",
       "      <td>2.081394</td>\n",
       "      <td>13.422831</td>\n",
       "    </tr>\n",
       "  </tbody>\n",
       "</table>\n",
       "</div>"
      ],
      "text/plain": [
       "                                                   Model  Train error  \\\n",
       "0                                         -5.51 X + 5.34     1.648503   \n",
       "1                              -3.44 X + -4.15 X2 + 5.36     1.636466   \n",
       "2                   -3.77 X + 6.56 X2 + -20.53 X3 + 5.42     1.625368   \n",
       "3        -3.70 X + 6.01 X2 + -18.17 X3 + -2.83 X4 + 5.41     1.625115   \n",
       "4      -3.72 X + 5.83 X2 + -17.61 X3 + -5.60 X4 + 5.2...     1.624172   \n",
       "Ridge  -3.68 X + -2.18 X2 + -1.30 X3 + -0.78 X4 + -0....     1.637614   \n",
       "\n",
       "       Test error  Sum of Absolute Weights  \n",
       "0        2.084219                10.854809  \n",
       "1        2.068783                12.949972  \n",
       "2        2.124767                36.282632  \n",
       "3        2.120890                36.116948  \n",
       "4        2.122645                43.440441  \n",
       "Ridge    2.081394                13.422831  "
      ]
     },
     "execution_count": 22,
     "metadata": {},
     "output_type": "execute_result"
    }
   ],
   "source": [
    "model6 = \"%.2f X + %.2f X2 + %.2f X3 + %.2f X4 + %.2f X5 + %.2f\" % (ridge.coef_[0][0], \n",
    "                                        ridge.coef_[0][1], ridge.coef_[0][2], \n",
    "                                        ridge.coef_[0][3], ridge.coef_[0][4], ridge.intercept_[0])\n",
    "values6 = [ model6, np.sqrt(mean_squared_error(Y_train, Y_pred_train_ridge)), \n",
    "           np.sqrt(mean_squared_error(Y_test, Y_pred_test_ridge)),\n",
    "           np.absolute(ridge.coef_[0]).sum() + np.absolute(ridge.intercept_[0])]\n",
    "\n",
    "ridge_results = pd.DataFrame([values6], columns=columns, index=['Ridge'])\n",
    "pd.concat([results, ridge_results])"
   ]
  },
  {
   "cell_type": "code",
   "execution_count": 23,
   "metadata": {},
   "outputs": [
    {
     "name": "stdout",
     "output_type": "stream",
     "text": [
      "[[-3.67866662 -2.18335516 -1.30204378 -0.77537455 -0.26566152]]\n"
     ]
    }
   ],
   "source": [
    "print(ridge.coef_)"
   ]
  },
  {
   "cell_type": "code",
   "execution_count": 24,
   "metadata": {},
   "outputs": [
    {
     "data": {
      "text/plain": [
       "8.205101629416403"
      ]
     },
     "execution_count": 24,
     "metadata": {},
     "output_type": "execute_result"
    }
   ],
   "source": [
    "np.absolute(ridge.coef_[0]).sum()"
   ]
  },
  {
   "cell_type": "code",
   "execution_count": 25,
   "metadata": {},
   "outputs": [
    {
     "name": "stdout",
     "output_type": "stream",
     "text": [
      "[5.21772955]\n"
     ]
    }
   ],
   "source": [
    "print(ridge.intercept_)"
   ]
  },
  {
   "cell_type": "code",
   "execution_count": 26,
   "metadata": {},
   "outputs": [
    {
     "name": "stdout",
     "output_type": "stream",
     "text": [
      "[13.42283118]\n"
     ]
    }
   ],
   "source": [
    "print(np.absolute(ridge.coef_[0]).sum() + ridge.intercept_)"
   ]
  },
  {
   "cell_type": "code",
   "execution_count": 27,
   "metadata": {},
   "outputs": [
    {
     "name": "stdout",
     "output_type": "stream",
     "text": [
      "-3.68 X + -2.18 X2 + -1.30 X3 + -0.78 X4 + -0.27 X5 + 5.22\n"
     ]
    }
   ],
   "source": [
    "print(model6)"
   ]
  },
  {
   "cell_type": "markdown",
   "metadata": {},
   "source": [
    "Observation:\n",
    "    \n",
    "By setting an appropriate value for the hyperparameter,$\\alpha$, the sum of absolute weights can be controlled, \n",
    "thus producing a test error that is quite comparable to that of MLR without the correlated attributes."
   ]
  },
  {
   "cell_type": "markdown",
   "metadata": {},
   "source": [
    "__ii)Lasso regression__: Least Absolute Shrinkage and Selection Operator\n",
    "\n",
    "One of the limitations of ridge regression is that, although it was able to reduce the regression coefficients \n",
    "associated with the correlated attributes and reduce the effect of model overfitting, the resulting model is still \n",
    "not sparse. Another variation of MLR, called lasso regression, is designed to produce sparser models by imposing an $\\ell_1$ regularization on the regression coefficients as shown below:\n",
    "$$L_{\\textrm{lasso}}(y,f(X,w)) = \\sum_{i=1}^N \\|y_i - X_iw - w_0\\|^2 + \\alpha \\bigg[ \\|w\\|_1 + |w_0|\\bigg]$$"
   ]
  },
  {
   "cell_type": "markdown",
   "metadata": {},
   "source": [
    "__Step: Repeat the step as in ridge regression__\n",
    "    \n",
    "Use the lasso()method but set $\\alpha$=0.01"
   ]
  },
  {
   "cell_type": "markdown",
   "metadata": {},
   "source": [
    "**<font color=\"red\">Code:</font>**"
   ]
  },
  {
   "cell_type": "code",
   "execution_count": 28,
   "metadata": {},
   "outputs": [
    {
     "data": {
      "text/html": [
       "<div>\n",
       "<style scoped>\n",
       "    .dataframe tbody tr th:only-of-type {\n",
       "        vertical-align: middle;\n",
       "    }\n",
       "\n",
       "    .dataframe tbody tr th {\n",
       "        vertical-align: top;\n",
       "    }\n",
       "\n",
       "    .dataframe thead th {\n",
       "        text-align: right;\n",
       "    }\n",
       "</style>\n",
       "<table border=\"1\" class=\"dataframe\">\n",
       "  <thead>\n",
       "    <tr style=\"text-align: right;\">\n",
       "      <th></th>\n",
       "      <th>Model</th>\n",
       "      <th>Train error</th>\n",
       "      <th>Test error</th>\n",
       "      <th>Sum of Absolute Weights</th>\n",
       "    </tr>\n",
       "  </thead>\n",
       "  <tbody>\n",
       "    <tr>\n",
       "      <th>0</th>\n",
       "      <td>-5.51 X + 5.34</td>\n",
       "      <td>1.648503</td>\n",
       "      <td>2.084219</td>\n",
       "      <td>10.854809</td>\n",
       "    </tr>\n",
       "    <tr>\n",
       "      <th>1</th>\n",
       "      <td>-3.44 X + -4.15 X2 + 5.36</td>\n",
       "      <td>1.636466</td>\n",
       "      <td>2.068783</td>\n",
       "      <td>12.949972</td>\n",
       "    </tr>\n",
       "    <tr>\n",
       "      <th>2</th>\n",
       "      <td>-3.77 X + 6.56 X2 + -20.53 X3 + 5.42</td>\n",
       "      <td>1.625368</td>\n",
       "      <td>2.124767</td>\n",
       "      <td>36.282632</td>\n",
       "    </tr>\n",
       "    <tr>\n",
       "      <th>3</th>\n",
       "      <td>-3.70 X + 6.01 X2 + -18.17 X3 + -2.83 X4 + 5.41</td>\n",
       "      <td>1.625115</td>\n",
       "      <td>2.120890</td>\n",
       "      <td>36.116948</td>\n",
       "    </tr>\n",
       "    <tr>\n",
       "      <th>4</th>\n",
       "      <td>-3.72 X + 5.83 X2 + -17.61 X3 + -5.60 X4 + 5.2...</td>\n",
       "      <td>1.624172</td>\n",
       "      <td>2.122645</td>\n",
       "      <td>43.440441</td>\n",
       "    </tr>\n",
       "    <tr>\n",
       "      <th>Ridge</th>\n",
       "      <td>-3.68 X + -2.18 X2 + -1.30 X3 + -0.78 X4 + -0....</td>\n",
       "      <td>1.637614</td>\n",
       "      <td>2.081394</td>\n",
       "      <td>13.422831</td>\n",
       "    </tr>\n",
       "    <tr>\n",
       "      <th>Lasso</th>\n",
       "      <td>-4.41 X + -1.97 X2 + -0.00 X3 + -0.00 X4 + -0....</td>\n",
       "      <td>1.640169</td>\n",
       "      <td>2.077480</td>\n",
       "      <td>11.676981</td>\n",
       "    </tr>\n",
       "  </tbody>\n",
       "</table>\n",
       "</div>"
      ],
      "text/plain": [
       "                                                   Model  Train error  \\\n",
       "0                                         -5.51 X + 5.34     1.648503   \n",
       "1                              -3.44 X + -4.15 X2 + 5.36     1.636466   \n",
       "2                   -3.77 X + 6.56 X2 + -20.53 X3 + 5.42     1.625368   \n",
       "3        -3.70 X + 6.01 X2 + -18.17 X3 + -2.83 X4 + 5.41     1.625115   \n",
       "4      -3.72 X + 5.83 X2 + -17.61 X3 + -5.60 X4 + 5.2...     1.624172   \n",
       "Ridge  -3.68 X + -2.18 X2 + -1.30 X3 + -0.78 X4 + -0....     1.637614   \n",
       "Lasso  -4.41 X + -1.97 X2 + -0.00 X3 + -0.00 X4 + -0....     1.640169   \n",
       "\n",
       "       Test error  Sum of Absolute Weights  \n",
       "0        2.084219                10.854809  \n",
       "1        2.068783                12.949972  \n",
       "2        2.124767                36.282632  \n",
       "3        2.120890                36.116948  \n",
       "4        2.122645                43.440441  \n",
       "Ridge    2.081394                13.422831  \n",
       "Lasso    2.077480                11.676981  "
      ]
     },
     "execution_count": 28,
     "metadata": {},
     "output_type": "execute_result"
    }
   ],
   "source": [
    "from sklearn import linear_model\n",
    "\n",
    "lasso = linear_model.Lasso(alpha=0.01)\n",
    "lasso.fit(X_train5, Y_train)\n",
    "Y_pred_train_lasso = lasso.predict(X_train5)\n",
    "Y_pred_test_lasso = lasso.predict(X_test5)\n",
    "\n",
    "model7 = \"%.2f X + %.2f X2 + %.2f X3 + %.2f X4 + %.2f X5 + %.2f\" % (lasso.coef_[0], \n",
    "                                        lasso.coef_[1], lasso.coef_[2], \n",
    "                                        lasso.coef_[3], lasso.coef_[4], lasso.intercept_[0])\n",
    "values7 = [ model7, np.sqrt(mean_squared_error(Y_train, Y_pred_train_lasso)), \n",
    "           np.sqrt(mean_squared_error(Y_test, Y_pred_test_lasso)),\n",
    "           np.absolute(lasso.coef_).sum() + np.absolute(lasso.intercept_[0])]\n",
    "\n",
    "lasso_results = pd.DataFrame([values7], columns=columns, index=['Lasso'])\n",
    "pd.concat([results, ridge_results, lasso_results])"
   ]
  },
  {
   "cell_type": "code",
   "execution_count": 29,
   "metadata": {},
   "outputs": [
    {
     "name": "stdout",
     "output_type": "stream",
     "text": [
      "[-4.41313929 -1.96548433 -0.         -0.         -0.        ]\n"
     ]
    }
   ],
   "source": [
    "print(lasso.coef_)"
   ]
  },
  {
   "cell_type": "code",
   "execution_count": 30,
   "metadata": {},
   "outputs": [
    {
     "name": "stdout",
     "output_type": "stream",
     "text": [
      "[5.2983571]\n"
     ]
    }
   ],
   "source": [
    "print(lasso.intercept_)"
   ]
  },
  {
   "cell_type": "code",
   "execution_count": 31,
   "metadata": {},
   "outputs": [
    {
     "data": {
      "text/plain": [
       "4.4131392896391075"
      ]
     },
     "execution_count": 31,
     "metadata": {},
     "output_type": "execute_result"
    }
   ],
   "source": [
    "np.absolute(lasso.coef_[0]).sum()"
   ]
  },
  {
   "cell_type": "code",
   "execution_count": 32,
   "metadata": {},
   "outputs": [
    {
     "name": "stdout",
     "output_type": "stream",
     "text": [
      "-4.41 X + -1.97 X2 + -0.00 X3 + -0.00 X4 + -0.00 X5 + 5.30\n"
     ]
    }
   ],
   "source": [
    "print(model7)"
   ]
  },
  {
   "cell_type": "markdown",
   "metadata": {},
   "source": [
    "Observation:\n",
    "\n",
    "Observe that the lasso regression model sets the coefficients for the correlated attributes, X3, X4, and X5 to\n",
    "exactly zero unlike the ridge regression model. As a result, its test error is significantly better than that for\n",
    "ridge regression."
   ]
  },
  {
   "cell_type": "markdown",
   "metadata": {},
   "source": [
    "## Question 4: Model Selection via Cross Validation"
   ]
  },
  {
   "cell_type": "markdown",
   "metadata": {},
   "source": [
    "While both ridge and lasso regression methods can potentially alleviate the model overfitting problem, one of the \n",
    "challenges is how to select the appropriate hyperparameter value, $\\alpha$. Using k-fold cross-validation method to\n",
    "select the best hyperparameter of the model. \n",
    "\n",
    "Using the RidgeCV() function, we can train a model with k-fold cross-validation and select the best hyperparameter \n",
    "value.Set k=5 and $\\alpha$ range from 0.3 to 1 in step of 0.2"
   ]
  },
  {
   "cell_type": "markdown",
   "metadata": {},
   "source": [
    "**<font color=\"red\">Code:</font>**"
   ]
  },
  {
   "cell_type": "code",
   "execution_count": 33,
   "metadata": {},
   "outputs": [
    {
     "name": "stdout",
     "output_type": "stream",
     "text": [
      "Selected alpha = 0.70\n"
     ]
    },
    {
     "data": {
      "text/html": [
       "<div>\n",
       "<style scoped>\n",
       "    .dataframe tbody tr th:only-of-type {\n",
       "        vertical-align: middle;\n",
       "    }\n",
       "\n",
       "    .dataframe tbody tr th {\n",
       "        vertical-align: top;\n",
       "    }\n",
       "\n",
       "    .dataframe thead th {\n",
       "        text-align: right;\n",
       "    }\n",
       "</style>\n",
       "<table border=\"1\" class=\"dataframe\">\n",
       "  <thead>\n",
       "    <tr style=\"text-align: right;\">\n",
       "      <th></th>\n",
       "      <th>Model</th>\n",
       "      <th>Train error</th>\n",
       "      <th>Test error</th>\n",
       "      <th>Sum of Absolute Weights</th>\n",
       "    </tr>\n",
       "  </thead>\n",
       "  <tbody>\n",
       "    <tr>\n",
       "      <th>0</th>\n",
       "      <td>-5.51 X + 5.34</td>\n",
       "      <td>1.648503</td>\n",
       "      <td>2.084219</td>\n",
       "      <td>10.854809</td>\n",
       "    </tr>\n",
       "    <tr>\n",
       "      <th>1</th>\n",
       "      <td>-3.44 X + -4.15 X2 + 5.36</td>\n",
       "      <td>1.636466</td>\n",
       "      <td>2.068783</td>\n",
       "      <td>12.949972</td>\n",
       "    </tr>\n",
       "    <tr>\n",
       "      <th>2</th>\n",
       "      <td>-3.77 X + 6.56 X2 + -20.53 X3 + 5.42</td>\n",
       "      <td>1.625368</td>\n",
       "      <td>2.124767</td>\n",
       "      <td>36.282632</td>\n",
       "    </tr>\n",
       "    <tr>\n",
       "      <th>3</th>\n",
       "      <td>-3.70 X + 6.01 X2 + -18.17 X3 + -2.83 X4 + 5.41</td>\n",
       "      <td>1.625115</td>\n",
       "      <td>2.120890</td>\n",
       "      <td>36.116948</td>\n",
       "    </tr>\n",
       "    <tr>\n",
       "      <th>4</th>\n",
       "      <td>-3.72 X + 5.83 X2 + -17.61 X3 + -5.60 X4 + 5.2...</td>\n",
       "      <td>1.624172</td>\n",
       "      <td>2.122645</td>\n",
       "      <td>43.440441</td>\n",
       "    </tr>\n",
       "    <tr>\n",
       "      <th>RidgeCV</th>\n",
       "      <td>-3.64 X + -2.10 X2 + -1.20 X3 + -0.70 X4 + -0....</td>\n",
       "      <td>1.640295</td>\n",
       "      <td>2.084947</td>\n",
       "      <td>13.053452</td>\n",
       "    </tr>\n",
       "  </tbody>\n",
       "</table>\n",
       "</div>"
      ],
      "text/plain": [
       "                                                     Model  Train error  \\\n",
       "0                                           -5.51 X + 5.34     1.648503   \n",
       "1                                -3.44 X + -4.15 X2 + 5.36     1.636466   \n",
       "2                     -3.77 X + 6.56 X2 + -20.53 X3 + 5.42     1.625368   \n",
       "3          -3.70 X + 6.01 X2 + -18.17 X3 + -2.83 X4 + 5.41     1.625115   \n",
       "4        -3.72 X + 5.83 X2 + -17.61 X3 + -5.60 X4 + 5.2...     1.624172   \n",
       "RidgeCV  -3.64 X + -2.10 X2 + -1.20 X3 + -0.70 X4 + -0....     1.640295   \n",
       "\n",
       "         Test error  Sum of Absolute Weights  \n",
       "0          2.084219                10.854809  \n",
       "1          2.068783                12.949972  \n",
       "2          2.124767                36.282632  \n",
       "3          2.120890                36.116948  \n",
       "4          2.122645                43.440441  \n",
       "RidgeCV    2.084947                13.053452  "
      ]
     },
     "execution_count": 33,
     "metadata": {},
     "output_type": "execute_result"
    }
   ],
   "source": [
    "from sklearn import linear_model\n",
    "\n",
    "ridge = linear_model.RidgeCV(alphas=[0.3,0.5,0.7,0.9,1.0],cv=5)\n",
    "ridge.fit(X_train5, Y_train)\n",
    "Y_pred_train_ridge = ridge.predict(X_train5)\n",
    "Y_pred_test_ridge = ridge.predict(X_test5)\n",
    "\n",
    "model6 = \"%.2f X + %.2f X2 + %.2f X3 + %.2f X4 + %.2f X5 + %.2f\" % (ridge.coef_[0][0], \n",
    "                                        ridge.coef_[0][1], ridge.coef_[0][2], \n",
    "                                        ridge.coef_[0][3], ridge.coef_[0][4], ridge.intercept_[0])\n",
    "values6 = [ model6, np.sqrt(mean_squared_error(Y_train, Y_pred_train_ridge)), \n",
    "           np.sqrt(mean_squared_error(Y_test, Y_pred_test_ridge)),\n",
    "           np.absolute(ridge.coef_[0]).sum() + np.absolute(ridge.intercept_[0])]\n",
    "print(\"Selected alpha = %.2f\" % ridge.alpha_)\n",
    "\n",
    "ridge_results = pd.DataFrame([values6], columns=columns, index=['RidgeCV'])\n",
    "pd.concat([results, ridge_results])"
   ]
  },
  {
   "cell_type": "code",
   "execution_count": 34,
   "metadata": {},
   "outputs": [
    {
     "name": "stdout",
     "output_type": "stream",
     "text": [
      "[[-3.63870469 -2.10049915 -1.19739457 -0.69656312 -0.25709992]]\n"
     ]
    }
   ],
   "source": [
    "print(ridge.coef_)"
   ]
  },
  {
   "cell_type": "code",
   "execution_count": 35,
   "metadata": {},
   "outputs": [
    {
     "data": {
      "text/plain": [
       "7.890261458577355"
      ]
     },
     "execution_count": 35,
     "metadata": {},
     "output_type": "execute_result"
    }
   ],
   "source": [
    "np.absolute(ridge.coef_[0]).sum()"
   ]
  },
  {
   "cell_type": "code",
   "execution_count": 36,
   "metadata": {},
   "outputs": [
    {
     "name": "stdout",
     "output_type": "stream",
     "text": [
      "[5.16319044]\n"
     ]
    }
   ],
   "source": [
    "print(ridge.intercept_)"
   ]
  },
  {
   "cell_type": "code",
   "execution_count": 37,
   "metadata": {},
   "outputs": [
    {
     "name": "stdout",
     "output_type": "stream",
     "text": [
      "[13.0534519]\n"
     ]
    }
   ],
   "source": [
    "print(np.absolute(ridge.coef_[0]).sum() + ridge.intercept_)"
   ]
  },
  {
   "cell_type": "code",
   "execution_count": 38,
   "metadata": {},
   "outputs": [
    {
     "name": "stdout",
     "output_type": "stream",
     "text": [
      "-3.64 X + -2.10 X2 + -1.20 X3 + -0.70 X4 + -0.26 X5 + 5.16\n"
     ]
    }
   ],
   "source": [
    "print(model6)"
   ]
  },
  {
   "cell_type": "markdown",
   "metadata": {},
   "source": [
    "Observation:\n",
    "    \n",
    "Ridge CV tried to optimize between train error, test error and sum of absolute weights and choose the best $\\alpha$"
   ]
  },
  {
   "cell_type": "markdown",
   "metadata": {},
   "source": [
    "## Question 5: Basis Function Regression"
   ]
  },
  {
   "cell_type": "markdown",
   "metadata": {},
   "source": [
    "To adapt linear regression to nonlinear relationships between variables, the data can be transformed using basis \n",
    "functions. Using the PolynomialRegression pipeline in sklearn.preprocessing, the idea is to take the \n",
    "multidimensional linear model: \n",
    "    \n",
    "   $$y = w_0 + w_1 x_1 + w_2 x_2 + w_3 x_3 + \\cdots$$ \n",
    "\n",
    "and build the $x_1, x_2, x_3,$ and so on, from the single-dimensional input $x$. That is, let $x_n = f_n(x)$, where\n",
    "$f_n()$ is some function that transforms our data. For example, if $f_n(x) = x^n$, the model becomes a polynomial \n",
    "regression: \n",
    "    $$y = w_0 + w_1 x + w_2 x^2 + w_3 x^3 + \\cdots$$ \n",
    "    \n",
    "Notice that this is still a linear model—the linearity refers to the fact that the coefficients $w_n$ never\n",
    "multiply or divide each other. Effectively done is taken the one-dimensional $x$ values and projected them into a \n",
    "higher dimension, so that a linear fit can fit more complicated relationships between $x$ and $y$."
   ]
  },
  {
   "cell_type": "markdown",
   "metadata": {},
   "source": [
    "__Step 1: Import the polynomialFeatures class from sklearn.preprocessing library__\n",
    "\n",
    "1)Create 1 dimensional column array $x$ of size 3 with values say 1 2 3 using np.array([1,2,3])\n",
    "\n",
    "2)create a object called poly by using PolynominaFeatures (3, include_bias=False). This will set transform the \n",
    "any input $x$ to 3 inputs with increasing raised power.  $x , x^2 , x^3 $\n",
    "\n",
    "3)fit.transform the input data $x$"
   ]
  },
  {
   "cell_type": "markdown",
   "metadata": {},
   "source": [
    "**<font color=\"red\">Code:</font>**"
   ]
  },
  {
   "cell_type": "code",
   "execution_count": 39,
   "metadata": {},
   "outputs": [
    {
     "data": {
      "text/plain": [
       "array([[ 1.,  1.,  1.],\n",
       "       [ 2.,  4.,  8.],\n",
       "       [ 3.,  9., 27.]])"
      ]
     },
     "execution_count": 39,
     "metadata": {},
     "output_type": "execute_result"
    }
   ],
   "source": [
    "from sklearn.preprocessing import PolynomialFeatures\n",
    "x = np.array([1, 2, 3])\n",
    "poly = PolynomialFeatures(3, include_bias=False)\n",
    "poly.fit_transform(x[:, None])"
   ]
  },
  {
   "cell_type": "markdown",
   "metadata": {},
   "source": [
    "Observation:\n",
    "\n",
    "The polynomial transformer has converted one-dimensional array into a three-dimensional array by taking \n",
    "the exponent of each value. This new, higher-dimensional data representation can then be plugged into a \n",
    "linear regression."
   ]
  },
  {
   "cell_type": "markdown",
   "metadata": {},
   "source": [
    "__Step 2: Make a 10th order polynomial model__\n",
    "    \n",
    "1)from the sklearn.pipeline import make_pipeline\n",
    "\n",
    "2)from the sklearn.linear_model import LinearRegression\n",
    "\n",
    "3)Combine both PolynomialFeatures and LinearRegression class into poly_model \n",
    "by using make_pipeline(PolynomialFeatures,LinearRegression()). Use the polynonimal order equal to 10"
   ]
  },
  {
   "cell_type": "markdown",
   "metadata": {},
   "source": [
    "**<font color=\"red\">Code:</font>**"
   ]
  },
  {
   "cell_type": "code",
   "execution_count": 40,
   "metadata": {},
   "outputs": [],
   "source": [
    "from sklearn.pipeline import make_pipeline\n",
    "from sklearn.linear_model import LinearRegression\n",
    "poly_model = make_pipeline(PolynomialFeatures(10),\n",
    "                           LinearRegression())"
   ]
  },
  {
   "cell_type": "markdown",
   "metadata": {},
   "source": [
    "__Step 3: Create the input data__\n",
    "    \n",
    "1)create the 100 uniformly distrbuted value for the x axis that range from 0 to 20 using \n",
    "np.random.Randomstate().rand\n",
    "\n",
    "2)create a y=sin(x)+ $\\epsilon$ where $\\epsilon$ =normal distrbuted noise with mean 0 and standard deviation of 1. \n",
    "Use randn function"
   ]
  },
  {
   "cell_type": "markdown",
   "metadata": {},
   "source": [
    "**<font color=\"red\">Code:</font>**"
   ]
  },
  {
   "cell_type": "code",
   "execution_count": 41,
   "metadata": {},
   "outputs": [],
   "source": [
    "x = 20 * np.random.RandomState(1).rand(100)    #100 rows of uniform distrbuted data between 0 to 20\n",
    "y = np.sin(x) + 0.1 * np.random.RandomState(1).randn(100) #100 rows of normal distrbuted data for y "
   ]
  },
  {
   "cell_type": "markdown",
   "metadata": {},
   "source": [
    "__Step 4: Build the model__\n",
    "\n",
    "1)build the model with the data $x$ by first converting it to 100x1 matrix using x[:,np.newaxis]\n",
    "\n",
    "2)create the model by feeding both matrix new $x$ and the y data using fit() function\n"
   ]
  },
  {
   "cell_type": "code",
   "execution_count": 42,
   "metadata": {},
   "outputs": [
    {
     "data": {
      "text/plain": [
       "Pipeline(steps=[('polynomialfeatures', PolynomialFeatures(degree=10)),\n",
       "                ('linearregression', LinearRegression())])"
      ]
     },
     "execution_count": 42,
     "metadata": {},
     "output_type": "execute_result"
    }
   ],
   "source": [
    "poly_model.fit(x[:,np.newaxis], y) #convert to 100x1 matrix for x and feed both x and y data for building the model"
   ]
  },
  {
   "cell_type": "markdown",
   "metadata": {},
   "source": [
    "__Step 5: Test the model and the plot the original data(x,y) verus (x,predicted y)__\n",
    "    \n",
    "1)create the 1000 linearly spaced values of $x$ axis values between 0 to 20 by using np.linspace() function. \n",
    "Called  x_test.\n",
    "\n",
    "2)Feed the x_test values into the predict() function of the poly_model\n",
    "\n",
    "3)plot the scatterplot of original x and y and overlay with the x_test and the predicted y values"
   ]
  },
  {
   "cell_type": "markdown",
   "metadata": {},
   "source": [
    "**<font color=\"red\">Code:</font>**"
   ]
  },
  {
   "cell_type": "code",
   "execution_count": 43,
   "metadata": {},
   "outputs": [],
   "source": [
    "xtest = np.linspace(0, 20, 1000)\n",
    "ytest = poly_model.predict(xtest[:, np.newaxis])"
   ]
  },
  {
   "cell_type": "code",
   "execution_count": 44,
   "metadata": {},
   "outputs": [
    {
     "data": {
      "image/png": "[encoded data removed]",
      "text/plain": [
       "<Figure size 460.8x345.6 with 1 Axes>"
      ]
     },
     "metadata": {
      "needs_background": "light"
     },
     "output_type": "display_data"
    }
   ],
   "source": [
    "plt.scatter(x, y)\n",
    "plt.plot(xtest, ytest);"
   ]
  },
  {
   "cell_type": "markdown",
   "metadata": {},
   "source": [
    "Observation:\n",
    "    \n",
    "Polynomial of 10 is able to track the sine wave to certain precisiona and accuracy."
   ]
  },
  {
   "cell_type": "code",
   "execution_count": null,
   "metadata": {},
   "outputs": [],
   "source": []
  }
 ],
 "metadata": {
  "kernelspec": {
   "display_name": "Python 3",
   "language": "python",
   "name": "python3"
  },
  "language_info": {
   "codemirror_mode": {
    "name": "ipython",
    "version": 3
   },
   "file_extension": ".py",
   "mimetype": "text/x-python",
   "name": "python",
   "nbconvert_exporter": "python",
   "pygments_lexer": "ipython3",
   "version": "3.8.5"
  }
 },
 "nbformat": 4,
 "nbformat_minor": 4
}
